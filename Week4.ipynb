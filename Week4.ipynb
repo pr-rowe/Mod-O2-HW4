{
 "cells": [
  {
   "cell_type": "markdown",
   "id": "4441d563-75a4-4c32-b1e7-2c229477ca1c",
   "metadata": {},
   "source": [
    "# Week 4 - Univariate Analysis, part 2"
   ]
  },
  {
   "cell_type": "markdown",
   "id": "98e23199-b611-403a-b843-2369d14d29bd",
   "metadata": {
    "jp-MarkdownHeadingCollapsed": true
   },
   "source": [
    "# 1. Lesson - None"
   ]
  },
  {
   "cell_type": "markdown",
   "id": "35a7a0ae-f55f-455f-a951-478605b5e192",
   "metadata": {},
   "source": [
    "# 2. Weekly graph question"
   ]
  },
  {
   "cell_type": "markdown",
   "id": "6807d39d-413e-4ce2-9281-3dd73eda198f",
   "metadata": {},
   "source": [
    "Below are a histogram and boxplot representation of the same data. A pharmacy is keeping a record of the prices of the drugs that it sells, and an administrator wants to know how much the more expensive drugs tend to cost, in the context of the other prices.\n",
    "\n",
    "Please write a short explanation of the pros and cons of these two representations. Which would you choose? How would you modify the formatting, if at all, to make it more visually interesting, clear, or informative?"
   ]
  },
  {
   "cell_type": "code",
   "execution_count": 1,
   "id": "1888593e-817d-4148-954d-5d156593bd8d",
   "metadata": {},
   "outputs": [],
   "source": [
    "import numpy as np\n",
    "import pandas as pd\n",
    "\n",
    "np.random.seed(0)\n",
    "num_data = 100\n",
    "data = np.exp(np.random.uniform(size = num_data) * 4)\n",
    "df = pd.DataFrame(data.T, columns = [\"data\"])"
   ]
  },
  {
   "cell_type": "code",
   "execution_count": 2,
   "id": "13745ab1-8a9b-4568-bf56-3245fa36a358",
   "metadata": {},
   "outputs": [
    {
     "name": "stdout",
     "output_type": "stream",
     "text": [
      "The 75th percentile is: data    15.457656\n",
      "Name: 0.75, dtype: float64\n"
     ]
    },
    {
     "data": {
      "text/plain": [
       "<Axes: ylabel='Frequency'>"
      ]
     },
     "execution_count": 2,
     "metadata": {},
     "output_type": "execute_result"
    },
    {
     "data": {
      "image/png": "[encoded data removed]",
      "text/plain": [
       "<Figure size 640x480 with 1 Axes>"
      ]
     },
     "metadata": {},
     "output_type": "display_data"
    }
   ],
   "source": [
    "print(\"The 75th percentile is:\", df.quantile(q = 0.75))\n",
    "df.plot.hist()"
   ]
  },
  {
   "cell_type": "code",
   "execution_count": 3,
   "id": "d4dbce72-bd33-43a2-b3e7-354a1cca6e39",
   "metadata": {},
   "outputs": [
    {
     "data": {
      "text/plain": [
       "<Axes: >"
      ]
     },
     "execution_count": 3,
     "metadata": {},
     "output_type": "execute_result"
    },
    {
     "data": {
      "image/png": "[encoded data removed]",
      "text/plain": [
       "<Figure size 640x480 with 1 Axes>"
      ]
     },
     "metadata": {},
     "output_type": "display_data"
    }
   ],
   "source": [
    "df.plot.box()"
   ]
  },
  {
   "cell_type": "markdown",
   "id": "51537f3c",
   "metadata": {},
   "source": [
    "The boxplot is better because it can explicitly display outliers and shows important factors like mean, rande, and median."
   ]
  },
  {
   "cell_type": "markdown",
   "id": "ab830464-2f92-4281-a2d3-474ffd26d1c7",
   "metadata": {},
   "source": [
    "# 3. Homework - working on your datasets"
   ]
  },
  {
   "cell_type": "markdown",
   "id": "64da07cd",
   "metadata": {},
   "source": [
    "This week, you will do the same types of exercises as last week, but you should use your chosen datasets that someone in your class found last semester. (They likely will not be the particular datasets that you found yourself.)\n",
    "\n",
    "### Here are some types of analysis you can do:\n",
    "\n",
    "- Draw histograms and histogram variants for each feature or column.  (Swarm plot, kde plot, violin plot).\n",
    "\n",
    "- Draw grouped histograms.  For instance, if you have tree heights for both maple and oak trees, you could draw histograms for both.\n",
    "\n",
    "- Draw a bar plot to indicate total counts of each categorical variable in a given column.\n",
    "\n",
    "- Find means, medians, and modes.\n",
    "\n",
    "### Conclusions:\n",
    "\n",
    "- Explain what conclusions you would draw from this analysis: are the data what you expect?  Are the data likely to be usable?  If they are not useable, find some new data!\n",
    "\n",
    "- What is the overall shape of the distribution?  Is it normal, skewed, bimodal, uniform, etc.?\n",
    "\n",
    "- Are there any outliers present?  (Data points that are far from the others.)\n",
    "\n",
    "- If there are multiple related histograms, how does the distribution change across different groups?\n",
    "\n",
    "- What are the minimum and maximum values represented in each histogram?\n",
    "\n",
    "- How do bin sizes affect the histogram?  Does changing the bin width reveal different patterns in the data?\n",
    "\n",
    "- Does the distribution appear normal, or does it have a different distribution?"
   ]
  },
  {
   "cell_type": "code",
   "execution_count": 9,
   "id": "c569fd46",
   "metadata": {},
   "outputs": [
    {
     "name": "stdout",
     "output_type": "stream",
     "text": [
      "                        id                                               name  \\\n",
      "0                    69810  Live Beneath Live Oaks in a Bright, Intimate H...   \n",
      "1                    70812                    1 Bedroom Apt; Above the Studio   \n",
      "2                    72833        Private, Detached Cottage with Full Kitchen   \n",
      "3                    73005      3BR Convenient Gated Townhome w/ Pool Access!   \n",
      "4                    73289                       Simple 2/2 in Central Austin   \n",
      "...                    ...                                                ...   \n",
      "15495  1310391676390325704  SOCO Cozy Comfy | Pool + Gym + Racquetball + L...   \n",
      "15496  1310392877221625170  SOCO Cozy Lavish Loft | Pool + Gym + Racquetba...   \n",
      "15497  1310393203122505616  SOCO Cozy Haven | Pool + Gym + Racquetball + L...   \n",
      "15498  1310415528994504080                     Executive Suite, 1br, West 6th   \n",
      "15499  1310966014063956675          Luxe 4-Bedroom Wellness Retreat with Pool   \n",
      "\n",
      "         host_id       host_name  neighbourhood_group  neighbourhood  \\\n",
      "0          82762          Dolina                  NaN          78704   \n",
      "1         268988       Stephanie                  NaN          78704   \n",
      "2         378744  Ellen And Andy                  NaN          78731   \n",
      "3         128514          Vivian                  NaN          78727   \n",
      "4         382510       Christina                  NaN          78705   \n",
      "...          ...             ...                  ...            ...   \n",
      "15495  513841947            Alex                  NaN          78704   \n",
      "15496  513841947            Alex                  NaN          78704   \n",
      "15497  513841947            Alex                  NaN          78704   \n",
      "15498  236371702          Travis                  NaN          78701   \n",
      "15499  114422088        Franklin                  NaN          78704   \n",
      "\n",
      "        latitude  longitude        room_type  price  minimum_nights  \\\n",
      "0      30.230900 -97.766190  Entire home/apt    NaN               2   \n",
      "1      30.246480 -97.749130  Entire home/apt  165.0               2   \n",
      "2      30.313000 -97.750660  Entire home/apt    NaN               3   \n",
      "3      30.414190 -97.731830  Entire home/apt  297.0               4   \n",
      "4      30.290160 -97.744780  Entire home/apt  111.0              30   \n",
      "...          ...        ...              ...    ...             ...   \n",
      "15495  30.236716 -97.751980  Entire home/apt   54.0               1   \n",
      "15496  30.236716 -97.751980  Entire home/apt   54.0               1   \n",
      "15497  30.236716 -97.751980  Entire home/apt   54.0               1   \n",
      "15498  30.269450 -97.746256  Entire home/apt  223.0               1   \n",
      "15499  30.233817 -97.752091  Entire home/apt  799.0               2   \n",
      "\n",
      "       number_of_reviews last_review  reviews_per_month  \\\n",
      "0                    445  2022-03-08               2.65   \n",
      "1                    188  2024-11-11               1.12   \n",
      "2                    413  2023-03-26               2.47   \n",
      "3                     45  2024-11-03               0.27   \n",
      "4                     62  2024-06-29               0.37   \n",
      "...                  ...         ...                ...   \n",
      "15495                  0         NaN                NaN   \n",
      "15496                  0         NaN                NaN   \n",
      "15497                  0         NaN                NaN   \n",
      "15498                  0         NaN                NaN   \n",
      "15499                  0         NaN                NaN   \n",
      "\n",
      "       calculated_host_listings_count  availability_365  \\\n",
      "0                                   1                 0   \n",
      "1                                   1                61   \n",
      "2                                   1                 0   \n",
      "3                                   1               178   \n",
      "4                                   2               194   \n",
      "...                               ...               ...   \n",
      "15495                              24               365   \n",
      "15496                              24               365   \n",
      "15497                              24               360   \n",
      "15498                               5               323   \n",
      "15499                              45                85   \n",
      "\n",
      "       number_of_reviews_ltm  license  \n",
      "0                          0      NaN  \n",
      "1                          7      NaN  \n",
      "2                          0      NaN  \n",
      "3                          1      NaN  \n",
      "4                          2      NaN  \n",
      "...                      ...      ...  \n",
      "15495                      0      NaN  \n",
      "15496                      0      NaN  \n",
      "15497                      0      NaN  \n",
      "15498                      0      NaN  \n",
      "15499                      0      NaN  \n",
      "\n",
      "[15500 rows x 18 columns]\n"
     ]
    }
   ],
   "source": [
    "df = pd.read_csv('https://data.insideairbnb.com/united-states/tx/austin/2024-12-14/visualisations/listings.csv')\n",
    "print(df)"
   ]
  },
  {
   "cell_type": "markdown",
   "id": "a3f1934f-7ef3-4cbb-84bd-b27d93ba95d2",
   "metadata": {},
   "source": [
    "# 4. Storytelling With Data graph"
   ]
  },
  {
   "cell_type": "markdown",
   "id": "91ba396b-fc00-48ec-acc6-e026348536f6",
   "metadata": {},
   "source": [
    "Reproduce any graph of your choice in p. 52-68 of the Storytelling With Data book as best you can.  (The second half of chapter two).  You do not have to get the exact data values right, just the overall look and feel."
   ]
  },
  {
   "cell_type": "code",
   "execution_count": null,
   "id": "5a7e4b4b-977a-4b0e-bec2-1f34a514da44",
   "metadata": {},
   "outputs": [],
   "source": []
  }
 ],
 "metadata": {
  "kernelspec": {
   "display_name": "Python 3",
   "language": "python",
   "name": "python3"
  },
  "language_info": {
   "codemirror_mode": {
    "name": "ipython",
    "version": 3
   },
   "file_extension": ".py",
   "mimetype": "text/x-python",
   "name": "python",
   "nbconvert_exporter": "python",
   "pygments_lexer": "ipython3",
   "version": "3.12.1"
  }
 },
 "nbformat": 4,
 "nbformat_minor": 5
}
